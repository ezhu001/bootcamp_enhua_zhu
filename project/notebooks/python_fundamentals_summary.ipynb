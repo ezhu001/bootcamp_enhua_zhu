{
 "cells": [
  {
   "cell_type": "code",
   "execution_count": 3,
   "id": "64531bc6-24cb-4811-aa1a-8612a7541313",
   "metadata": {},
   "outputs": [
    {
     "name": "stdout",
     "output_type": "stream",
     "text": [
      "[ 3  5  7  9 11]\n",
      "[ 3  5  7  9 11]\n",
      "\n",
      "Dataset information:\n",
      "<class 'pandas.core.frame.DataFrame'>\n",
      "RangeIndex: 242 entries, 0 to 241\n",
      "Data columns (total 7 columns):\n",
      " #   Column  Non-Null Count  Dtype  \n",
      "---  ------  --------------  -----  \n",
      " 0   Date    242 non-null    object \n",
      " 1   Ticket  242 non-null    int64  \n",
      " 2   Open    242 non-null    float64\n",
      " 3   Close   242 non-null    float64\n",
      " 4   High    242 non-null    float64\n",
      " 5   Low     242 non-null    float64\n",
      " 6   Volume  242 non-null    int64  \n",
      "dtypes: float64(4), int64(2), object(1)\n",
      "memory usage: 13.4+ KB\n",
      "None\n",
      "\n",
      "First 5 rows as head:\n",
      "       Date  Ticket  Open  Close  High   Low  Volume\n",
      "0  2023/1/3  600000  6.22   6.18  6.23  6.12  258925\n",
      "1  2023/1/4  600000  6.22   6.26  6.30  6.18  309471\n",
      "2  2023/1/5  600000  6.32   6.30  6.33  6.25  301622\n",
      "3  2023/1/6  600000  6.30   6.29  6.33  6.26  203129\n",
      "4  2023/1/9  600000  6.33   6.29  6.33  6.25  196123\n"
     ]
    }
   ],
   "source": [
    "import numpy as np\n",
    "import pandas as pd\n",
    "\n",
    "# Create arrays\n",
    "\n",
    "arr1 = np.array([1, 2, 3, 4, 5])\n",
    "arr2 = np.array([2, 3, 4, 5, 6])\n",
    "\n",
    "# Loop-based operation\n",
    "def loop_operation(a1, a2):\n",
    "    result = np.zeros_like(arr1)\n",
    "    for i in range(len(arr1)):\n",
    "        result[i] = a1[i] + a2[i]\n",
    "    return result\n",
    "\n",
    "def vectorized_operation(a1, a2):\n",
    "    return a1+a2\n",
    "\n",
    "print(loop_operation(arr1, arr2))\n",
    "\n",
    "print(vectorized_operation(arr1, arr2))\n",
    "\n",
    "df = pd.read_csv('starter_data.csv')\n",
    "\n",
    "print(\"\\nDataset information:\")\n",
    "print(df.info())\n",
    "\n",
    "print(\"\\nFirst 5 rows as head:\")\n",
    "print(df.head())"
   ]
  },
  {
   "cell_type": "code",
   "execution_count": null,
   "id": "cf684ed6-c3b4-45c0-8d0a-3b893b8916ec",
   "metadata": {},
   "outputs": [],
   "source": []
  }
 ],
 "metadata": {
  "kernelspec": {
   "display_name": "Python 3 (ipykernel)",
   "language": "python",
   "name": "python3"
  },
  "language_info": {
   "codemirror_mode": {
    "name": "ipython",
    "version": 3
   },
   "file_extension": ".py",
   "mimetype": "text/x-python",
   "name": "python",
   "nbconvert_exporter": "python",
   "pygments_lexer": "ipython3",
   "version": "3.11.13"
  }
 },
 "nbformat": 4,
 "nbformat_minor": 5
}
