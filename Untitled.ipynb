{
 "cells": [
  {
   "cell_type": "code",
   "execution_count": 30,
   "id": "683aaf8e-efde-444d-aa90-50f82e7ad043",
   "metadata": {},
   "outputs": [
    {
     "name": "stdout",
     "output_type": "stream",
     "text": [
      "Python version 3.10.18 | packaged by Anaconda, Inc. | (main, Jun  5 2025, 13:08:55) [MSC v.1929 64 bit (AMD64)]\n",
      "Interpreter path: C:\\Users\\13466\\miniconda3\\envs\\bootcamp_env\\python.exe\n"
     ]
    }
   ],
   "source": [
    "import sys, os\n",
    "print(\"Python version\", sys.version)\n",
    "print(\"Interpreter path:\", sys.executable)"
   ]
  },
  {
   "cell_type": "code",
   "execution_count": 4,
   "id": "b318f2c8-c31f-4cc8-ae86-d9931d7187aa",
   "metadata": {},
   "outputs": [
    {
     "name": "stdout",
     "output_type": "stream",
     "text": [
      "(1, 2, 3, 'a')\n"
     ]
    }
   ],
   "source": [
    "def my_func(*arg):\n",
    "    print(arg)\n",
    "my_func(1,2,3,'a')"
   ]
  },
  {
   "cell_type": "code",
   "execution_count": 11,
   "id": "a0023354-5836-4c95-bf97-77dadd7c4291",
   "metadata": {},
   "outputs": [
    {
     "name": "stdout",
     "output_type": "stream",
     "text": [
      "{'stock': 'APPL', 'quantity': 500, 'price': 150, 'bond': 'bootcamp', 'expiry': '2026-01-01', 'min': 10000}\n"
     ]
    }
   ],
   "source": [
    "# Create a dictionary\n",
    "my_stock = {\n",
    "    \"stock\": \"APPL\",\n",
    "    \"quantity\": 500,\n",
    "    \"price\": 150,\n",
    "    \"bond\":'bootcamp',\n",
    "    \"expiry\":'2026-01-01',\n",
    "    \"min\":10000\n",
    "}\n",
    "\n",
    "print(my_stock)"
   ]
  },
  {
   "cell_type": "code",
   "execution_count": 13,
   "id": "64245d1a-4da1-40f6-a5b2-b820786d87bf",
   "metadata": {},
   "outputs": [
    {
     "name": "stdout",
     "output_type": "stream",
     "text": [
      "{'stock': 'APPL', 'quantity': 500, 'price': 150, 'bond': 'bootcamp', 'expiry': '2026-01-01', 'min': 10000}\n"
     ]
    }
   ],
   "source": [
    "inputs = {\n",
    "    \"stock\": \"APPL\",\n",
    "    \"quantity\": 500,\n",
    "    \"price\": 150,\n",
    "    \"bond\":'bootcamp',\n",
    "    \"expiry\":'2026-01-01',\n",
    "    \"min\":10000\n",
    "}\n",
    "\n",
    "def my_func(**args):\n",
    "    print(args)\n",
    "\n",
    "my_func(**inputs)\n",
    "    "
   ]
  },
  {
   "cell_type": "code",
   "execution_count": 29,
   "id": "ea9bc0aa-7fb6-4c40-b401-a4bcafa7f080",
   "metadata": {},
   "outputs": [
    {
     "name": "stdout",
     "output_type": "stream",
     "text": [
      "Calling a_func:\n",
      "Number of arguments: 3\n",
      "Inside my_func: 6\n",
      "\n",
      "Calling my_func directly:\n",
      "Inside my_func: 6\n"
     ]
    },
    {
     "data": {
      "text/plain": [
       "6"
      ]
     },
     "execution_count": 29,
     "metadata": {},
     "output_type": "execute_result"
    }
   ],
   "source": [
    "# Define a sample function\n",
    "def my_func(x, y, z):\n",
    "    print(\"Inside my_func:\", x + y + z)\n",
    "    return x + y + z\n",
    "\n",
    "# Decorator function\n",
    "def my_debug(f):\n",
    "    def new_func(*args):\n",
    "        print(\"Number of arguments:\", len(args))\n",
    "        result = f(*args)  # call the original function\n",
    "        return result      # return the result\n",
    "    return new_func\n",
    "\n",
    "# Wrap my_func with the decorator\n",
    "a_func = my_debug(my_func)\n",
    "\n",
    "# Test\n",
    "print(\"Calling a_func:\")\n",
    "a_func(1, 2, 3)\n",
    "\n",
    "print(\"\\nCalling my_func directly:\")\n",
    "my_func(1, 2, 3)\n"
   ]
  }
 ],
 "metadata": {
  "kernelspec": {
   "display_name": "Python 3 (ipykernel)",
   "language": "python",
   "name": "python3"
  },
  "language_info": {
   "codemirror_mode": {
    "name": "ipython",
    "version": 3
   },
   "file_extension": ".py",
   "mimetype": "text/x-python",
   "name": "python",
   "nbconvert_exporter": "python",
   "pygments_lexer": "ipython3",
   "version": "3.10.18"
  }
 },
 "nbformat": 4,
 "nbformat_minor": 5
}
