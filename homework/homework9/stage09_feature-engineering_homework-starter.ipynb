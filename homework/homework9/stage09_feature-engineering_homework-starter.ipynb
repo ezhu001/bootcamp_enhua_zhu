{
 "cells": [
  {
   "cell_type": "markdown",
   "id": "398a2f5f",
   "metadata": {},
   "source": [
    "# Stage 09 — Homework Starter Notebook\n",
    "\n",
    "In the lecture, we learned how to create engineered features. Now it’s your turn to apply those ideas to your own project data."
   ]
  },
  {
   "cell_type": "code",
   "execution_count": 6,
   "id": "971c70dc",
   "metadata": {},
   "outputs": [
    {
     "data": {
      "text/html": [
       "<div>\n",
       "<style scoped>\n",
       "    .dataframe tbody tr th:only-of-type {\n",
       "        vertical-align: middle;\n",
       "    }\n",
       "\n",
       "    .dataframe tbody tr th {\n",
       "        vertical-align: top;\n",
       "    }\n",
       "\n",
       "    .dataframe thead th {\n",
       "        text-align: right;\n",
       "    }\n",
       "</style>\n",
       "<table border=\"1\" class=\"dataframe\">\n",
       "  <thead>\n",
       "    <tr style=\"text-align: right;\">\n",
       "      <th></th>\n",
       "      <th>date</th>\n",
       "      <th>close</th>\n",
       "      <th>open</th>\n",
       "      <th>high</th>\n",
       "      <th>low</th>\n",
       "      <th>volume</th>\n",
       "    </tr>\n",
       "  </thead>\n",
       "  <tbody>\n",
       "    <tr>\n",
       "      <th>0</th>\n",
       "      <td>2024-08-19</td>\n",
       "      <td>224.843582</td>\n",
       "      <td>224.674371</td>\n",
       "      <td>224.943125</td>\n",
       "      <td>222.006778</td>\n",
       "      <td>40687800</td>\n",
       "    </tr>\n",
       "    <tr>\n",
       "      <th>1</th>\n",
       "      <td>2024-08-20</td>\n",
       "      <td>225.460693</td>\n",
       "      <td>224.724131</td>\n",
       "      <td>226.117640</td>\n",
       "      <td>224.405606</td>\n",
       "      <td>30299000</td>\n",
       "    </tr>\n",
       "    <tr>\n",
       "      <th>2</th>\n",
       "      <td>2024-08-21</td>\n",
       "      <td>225.351212</td>\n",
       "      <td>225.470666</td>\n",
       "      <td>226.923894</td>\n",
       "      <td>224.007474</td>\n",
       "      <td>34765500</td>\n",
       "    </tr>\n",
       "    <tr>\n",
       "      <th>3</th>\n",
       "      <td>2024-08-22</td>\n",
       "      <td>223.489868</td>\n",
       "      <td>226.734761</td>\n",
       "      <td>227.282216</td>\n",
       "      <td>222.862782</td>\n",
       "      <td>43695300</td>\n",
       "    </tr>\n",
       "    <tr>\n",
       "      <th>4</th>\n",
       "      <td>2024-08-23</td>\n",
       "      <td>225.789154</td>\n",
       "      <td>224.614628</td>\n",
       "      <td>227.162766</td>\n",
       "      <td>223.290787</td>\n",
       "      <td>38677300</td>\n",
       "    </tr>\n",
       "  </tbody>\n",
       "</table>\n",
       "</div>"
      ],
      "text/plain": [
       "         date       close        open        high         low    volume\n",
       "0  2024-08-19  224.843582  224.674371  224.943125  222.006778  40687800\n",
       "1  2024-08-20  225.460693  224.724131  226.117640  224.405606  30299000\n",
       "2  2024-08-21  225.351212  225.470666  226.923894  224.007474  34765500\n",
       "3  2024-08-22  223.489868  226.734761  227.282216  222.862782  43695300\n",
       "4  2024-08-23  225.789154  224.614628  227.162766  223.290787  38677300"
      ]
     },
     "execution_count": 6,
     "metadata": {},
     "output_type": "execute_result"
    }
   ],
   "source": [
    "import pandas as pd\n",
    "import numpy as np\n",
    "\n",
    "df = pd.read_csv('my_data.csv')\n",
    "\n",
    "df.head()"
   ]
  },
  {
   "cell_type": "markdown",
   "id": "36858387",
   "metadata": {},
   "source": [
    "## TODO: Implement at least 2 engineered features here"
   ]
  },
  {
   "cell_type": "code",
   "execution_count": 7,
   "id": "ecca382b",
   "metadata": {},
   "outputs": [
    {
     "data": {
      "text/html": [
       "<div>\n",
       "<style scoped>\n",
       "    .dataframe tbody tr th:only-of-type {\n",
       "        vertical-align: middle;\n",
       "    }\n",
       "\n",
       "    .dataframe tbody tr th {\n",
       "        vertical-align: top;\n",
       "    }\n",
       "\n",
       "    .dataframe thead th {\n",
       "        text-align: right;\n",
       "    }\n",
       "</style>\n",
       "<table border=\"1\" class=\"dataframe\">\n",
       "  <thead>\n",
       "    <tr style=\"text-align: right;\">\n",
       "      <th></th>\n",
       "      <th>date</th>\n",
       "      <th>close</th>\n",
       "      <th>open</th>\n",
       "      <th>high</th>\n",
       "      <th>low</th>\n",
       "      <th>volume</th>\n",
       "      <th>price_change_pct</th>\n",
       "      <th>volume_weighted_momentum</th>\n",
       "    </tr>\n",
       "  </thead>\n",
       "  <tbody>\n",
       "    <tr>\n",
       "      <th>0</th>\n",
       "      <td>2024-08-19</td>\n",
       "      <td>224.843582</td>\n",
       "      <td>224.674371</td>\n",
       "      <td>224.943125</td>\n",
       "      <td>222.006778</td>\n",
       "      <td>40687800</td>\n",
       "      <td>1.306934</td>\n",
       "      <td>22.899370</td>\n",
       "    </tr>\n",
       "    <tr>\n",
       "      <th>1</th>\n",
       "      <td>2024-08-20</td>\n",
       "      <td>225.460693</td>\n",
       "      <td>224.724131</td>\n",
       "      <td>226.117640</td>\n",
       "      <td>224.405606</td>\n",
       "      <td>30299000</td>\n",
       "      <td>0.761838</td>\n",
       "      <td>13.123894</td>\n",
       "    </tr>\n",
       "    <tr>\n",
       "      <th>2</th>\n",
       "      <td>2024-08-21</td>\n",
       "      <td>225.351212</td>\n",
       "      <td>225.470666</td>\n",
       "      <td>226.923894</td>\n",
       "      <td>224.007474</td>\n",
       "      <td>34765500</td>\n",
       "      <td>1.293481</td>\n",
       "      <td>22.460176</td>\n",
       "    </tr>\n",
       "    <tr>\n",
       "      <th>3</th>\n",
       "      <td>2024-08-22</td>\n",
       "      <td>223.489868</td>\n",
       "      <td>226.734761</td>\n",
       "      <td>227.282216</td>\n",
       "      <td>222.862782</td>\n",
       "      <td>43695300</td>\n",
       "      <td>1.949165</td>\n",
       "      <td>34.291172</td>\n",
       "    </tr>\n",
       "    <tr>\n",
       "      <th>4</th>\n",
       "      <td>2024-08-23</td>\n",
       "      <td>225.789154</td>\n",
       "      <td>224.614628</td>\n",
       "      <td>227.162766</td>\n",
       "      <td>223.290787</td>\n",
       "      <td>38677300</td>\n",
       "      <td>1.723832</td>\n",
       "      <td>30.116661</td>\n",
       "    </tr>\n",
       "  </tbody>\n",
       "</table>\n",
       "</div>"
      ],
      "text/plain": [
       "         date       close        open        high         low    volume  \\\n",
       "0  2024-08-19  224.843582  224.674371  224.943125  222.006778  40687800   \n",
       "1  2024-08-20  225.460693  224.724131  226.117640  224.405606  30299000   \n",
       "2  2024-08-21  225.351212  225.470666  226.923894  224.007474  34765500   \n",
       "3  2024-08-22  223.489868  226.734761  227.282216  222.862782  43695300   \n",
       "4  2024-08-23  225.789154  224.614628  227.162766  223.290787  38677300   \n",
       "\n",
       "   price_change_pct  volume_weighted_momentum  \n",
       "0          1.306934                 22.899370  \n",
       "1          0.761838                 13.123894  \n",
       "2          1.293481                 22.460176  \n",
       "3          1.949165                 34.291172  \n",
       "4          1.723832                 30.116661  "
      ]
     },
     "execution_count": 7,
     "metadata": {},
     "output_type": "execute_result"
    }
   ],
   "source": [
    "from sklearn.preprocessing import MinMaxScaler\n",
    "\n",
    "#Feature 1: Daily price change\n",
    "df['price_change_pct'] =  (df['high'] - df['low']) / df['open'] * 100\n",
    "\n",
    "#Feature 2: \n",
    "df['volume_weighted_momentum'] = df['price_change_pct'] * np.log1p(df['volume'])\n",
    "\n",
    "df.head()"
   ]
  },
  {
   "cell_type": "markdown",
   "id": "3802a2ac",
   "metadata": {},
   "source": [
    "### Rationale for Feature 1\n",
    "Explain why this feature may help a model. Reference your EDA."
   ]
  },
  {
   "cell_type": "code",
   "execution_count": null,
   "id": "de99ee46",
   "metadata": {},
   "outputs": [],
   "source": [
    "\"\"\"\n",
    "It describes the percentage change within a day, and shows how volatile it is during that day. Such could possibly be a useful feature in determining\n",
    "whether it is a good time to invest and later become part of the machine learning indicators.\n",
    "\"\"\""
   ]
  },
  {
   "cell_type": "markdown",
   "id": "3cea5756",
   "metadata": {},
   "source": [
    "### Rationale for Feature 2\n",
    "Explain why this feature may help a model. Reference your EDA."
   ]
  },
  {
   "cell_type": "code",
   "execution_count": null,
   "id": "95491938-219f-49f6-b281-e079abdc52c7",
   "metadata": {},
   "outputs": [],
   "source": [
    "\"\"\"\n",
    "It is basically a technical indicator that combines price movement strength, which is momentum, with trading volume \n",
    "to measure the conviction behind a price trend. It helps distinguish between high-confidence trends (supported by volume) \n",
    "and weak/noisy movements (low volume). It also could be a feature/indicator for predictive models.\n",
    "\"\"\""
   ]
  }
 ],
 "metadata": {
  "kernelspec": {
   "display_name": "Python 3 (ipykernel)",
   "language": "python",
   "name": "python3"
  },
  "language_info": {
   "codemirror_mode": {
    "name": "ipython",
    "version": 3
   },
   "file_extension": ".py",
   "mimetype": "text/x-python",
   "name": "python",
   "nbconvert_exporter": "python",
   "pygments_lexer": "ipython3",
   "version": "3.11.13"
  }
 },
 "nbformat": 4,
 "nbformat_minor": 5
}
