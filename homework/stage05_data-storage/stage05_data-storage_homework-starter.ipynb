{
 "cells": [
  {
   "cell_type": "markdown",
   "id": "f7f466bc",
   "metadata": {},
   "source": [
    "# Homework Starter — Stage 05: Data Storage\n",
    "Name: \n",
    "Date: \n",
    "\n",
    "Objectives:\n",
    "- Env-driven paths to `data/raw/` and `data/processed/`\n",
    "- Save CSV and Parquet; reload and validate\n",
    "- Abstract IO with utility functions; document choices"
   ]
  },
  {
   "cell_type": "code",
   "execution_count": 22,
   "id": "ec6fbabd",
   "metadata": {
    "scrolled": true
   },
   "outputs": [
    {
     "name": "stdout",
     "output_type": "stream",
     "text": [
      "RAW -> C:\\Users\\13466\\bootcamp_enhua_zhu\\homework\\homework5\\data\\raw\n",
      "PROC -> C:\\Users\\13466\\bootcamp_enhua_zhu\\homework\\homework5\\data\\processed\n"
     ]
    }
   ],
   "source": [
    "import os, pathlib, datetime as dt\n",
    "import pandas as pd\n",
    "from dotenv import load_dotenv\n",
    "\n",
    "#Directories are created base on the starter\n",
    "#.env created with DATA\\_DIR\\_RAW=data/raw and DATA\\_DIR\\_PROCESSED=data/processed\n",
    "\n",
    "load_dotenv()\n",
    "RAW = pathlib.Path(os.getenv('DATA_DIR_RAW', 'data/raw'))\n",
    "PROC = pathlib.Path(os.getenv('DATA_DIR_PROCESSED', 'data/processed'))\n",
    "RAW.mkdir(parents=True, exist_ok=True)\n",
    "PROC.mkdir(parents=True, exist_ok=True)\n",
    "print('RAW ->', RAW.resolve())\n",
    "print('PROC ->', PROC.resolve())"
   ]
  },
  {
   "cell_type": "markdown",
   "id": "17758aa9",
   "metadata": {},
   "source": [
    "## 1) Create or Load a Sample DataFrame\n",
    "You may reuse data from prior stages or create a small synthetic dataset."
   ]
  },
  {
   "cell_type": "code",
   "execution_count": 23,
   "id": "5730399e",
   "metadata": {},
   "outputs": [
    {
     "data": {
      "text/html": [
       "<div>\n",
       "<style scoped>\n",
       "    .dataframe tbody tr th:only-of-type {\n",
       "        vertical-align: middle;\n",
       "    }\n",
       "\n",
       "    .dataframe tbody tr th {\n",
       "        vertical-align: top;\n",
       "    }\n",
       "\n",
       "    .dataframe thead th {\n",
       "        text-align: right;\n",
       "    }\n",
       "</style>\n",
       "<table border=\"1\" class=\"dataframe\">\n",
       "  <thead>\n",
       "    <tr style=\"text-align: right;\">\n",
       "      <th></th>\n",
       "      <th>date</th>\n",
       "      <th>ticker</th>\n",
       "      <th>price</th>\n",
       "    </tr>\n",
       "  </thead>\n",
       "  <tbody>\n",
       "    <tr>\n",
       "      <th>0</th>\n",
       "      <td>2024-01-01</td>\n",
       "      <td>AAPL</td>\n",
       "      <td>148.639833</td>\n",
       "    </tr>\n",
       "    <tr>\n",
       "      <th>1</th>\n",
       "      <td>2024-01-02</td>\n",
       "      <td>AAPL</td>\n",
       "      <td>148.825222</td>\n",
       "    </tr>\n",
       "    <tr>\n",
       "      <th>2</th>\n",
       "      <td>2024-01-03</td>\n",
       "      <td>AAPL</td>\n",
       "      <td>149.635434</td>\n",
       "    </tr>\n",
       "    <tr>\n",
       "      <th>3</th>\n",
       "      <td>2024-01-04</td>\n",
       "      <td>AAPL</td>\n",
       "      <td>149.878524</td>\n",
       "    </tr>\n",
       "    <tr>\n",
       "      <th>4</th>\n",
       "      <td>2024-01-05</td>\n",
       "      <td>AAPL</td>\n",
       "      <td>149.757249</td>\n",
       "    </tr>\n",
       "  </tbody>\n",
       "</table>\n",
       "</div>"
      ],
      "text/plain": [
       "        date ticker       price\n",
       "0 2024-01-01   AAPL  148.639833\n",
       "1 2024-01-02   AAPL  148.825222\n",
       "2 2024-01-03   AAPL  149.635434\n",
       "3 2024-01-04   AAPL  149.878524\n",
       "4 2024-01-05   AAPL  149.757249"
      ]
     },
     "execution_count": 23,
     "metadata": {},
     "output_type": "execute_result"
    }
   ],
   "source": [
    "#Create and load dataframe\n",
    "\n",
    "import numpy as np\n",
    "dates = pd.date_range('2024-01-01', periods=20, freq='D')\n",
    "df = pd.DataFrame({'date': dates, 'ticker': ['AAPL']*20, 'price': 150 + np.random.randn(20).cumsum()})\n",
    "df.head()"
   ]
  },
  {
   "cell_type": "markdown",
   "id": "5582ecad",
   "metadata": {},
   "source": [
    "## 2) Save CSV to data/raw/ and Parquet to data/processed/ (TODO)\n",
    "- Use timestamped filenames.\n",
    "- Handle missing Parquet engine gracefully."
   ]
  },
  {
   "cell_type": "code",
   "execution_count": 24,
   "id": "045bff34",
   "metadata": {},
   "outputs": [
    {
     "data": {
      "text/plain": [
       "WindowsPath('data/processed/sample_20250817-142848.parquet')"
      ]
     },
     "execution_count": 24,
     "metadata": {},
     "output_type": "execute_result"
    }
   ],
   "source": [
    "def ts(): return dt.datetime.now().strftime('%Y%m%d-%H%M%S')\n",
    "\n",
    "# CSV saved with the method instructed\n",
    "csv_path = RAW / f\"sample_{ts()}.csv\"\n",
    "df.to_csv(csv_path, index=False)\n",
    "csv_path\n",
    "\n",
    "# Pyarrow installed and parquet saved as instructed\n",
    "pq_path = PROC / f\"sample_{ts()}.parquet\"\n",
    "try:\n",
    "    df.to_parquet(pq_path)\n",
    "except Exception as e:\n",
    "    print('Parquet engine not available. Install pyarrow or fastparquet to complete this step.')\n",
    "    pq_path = None\n",
    "pq_path"
   ]
  },
  {
   "cell_type": "markdown",
   "id": "0047e815",
   "metadata": {},
   "source": [
    "## 3) Reload and Validate (TODO)\n",
    "- Compare shapes and key dtypes."
   ]
  },
  {
   "cell_type": "code",
   "execution_count": 25,
   "id": "ba1f090b",
   "metadata": {},
   "outputs": [
    {
     "name": "stdout",
     "output_type": "stream",
     "text": [
      "CSV validation:  {'shape_equal': True, 'date_is_datetime': True, 'price_is_numeric': True}\n",
      "Parquet validation:  {'shape_equal': True, 'date_is_datetime': True, 'price_is_numeric': True}\n"
     ]
    }
   ],
   "source": [
    "def validate_loaded(original, reloaded):\n",
    "    checks = {\n",
    "        'shape_equal': original.shape == reloaded.shape,\n",
    "        'date_is_datetime': pd.api.types.is_datetime64_any_dtype(reloaded['date']) if 'date' in reloaded.columns else False,\n",
    "        'price_is_numeric': pd.api.types.is_numeric_dtype(reloaded['price']) if 'price' in reloaded.columns else False,\n",
    "    }\n",
    "    return checks\n",
    "\n",
    "# Use validate_loaded to check both ways; compare shapes and key dtypes\n",
    "df_csv = pd.read_csv(csv_path, parse_dates=['date'])\n",
    "df_pq = pd.read_parquet(pq_path)\n",
    "try:\n",
    "    print('CSV validation: ',validate_loaded(df, df_csv))\n",
    "except Exception as e:\n",
    "    print('CSV validation fails.', e)\n",
    "try:\n",
    "    print('Parquet validation: ',validate_loaded(df, df_pq))\n",
    "except Exception as e:\n",
    "    print('Parquet validation fails.', e)"
   ]
  },
  {
   "cell_type": "markdown",
   "id": "0c45dfa8",
   "metadata": {},
   "source": [
    "## 4) Utilities (TODO)\n",
    "- Implement `detect_format`, `write_df`, `read_df`.\n",
    "- Use suffix to route; create parent dirs if needed; friendly errors for Parquet."
   ]
  },
  {
   "cell_type": "code",
   "execution_count": 26,
   "id": "9c432be7",
   "metadata": {},
   "outputs": [
    {
     "name": "stdout",
     "output_type": "stream",
     "text": [
      "data\\processed\\util_20250817-142852.parquet\n",
      "        date ticker       price\n",
      "0 2024-01-01   AAPL  148.639833\n",
      "1 2024-01-02   AAPL  148.825222\n",
      "2 2024-01-03   AAPL  149.635434\n",
      "3 2024-01-04   AAPL  149.878524\n",
      "4 2024-01-05   AAPL  149.757249\n"
     ]
    }
   ],
   "source": [
    "import typing as t, pathlib\n",
    "\n",
    "def detect_format(path: t.Union[str, pathlib.Path]):\n",
    "    s = str(path).lower()\n",
    "    if s.endswith('.csv'): return 'csv'\n",
    "    if s.endswith('.parquet') or s.endswith('.pq') or s.endswith('.parq'): return 'parquet'\n",
    "    raise ValueError('Unsupported format: ' + s)\n",
    "\n",
    "def write_df(df: pd.DataFrame, path: t.Union[str, pathlib.Path]):\n",
    "    p = pathlib.Path(path); p.parent.mkdir(parents=True, exist_ok=True)\n",
    "    fmt = detect_format(p)\n",
    "    if fmt == 'csv':\n",
    "        df.to_csv(p, index=False)\n",
    "    else:\n",
    "        try:\n",
    "            df.to_parquet(p)\n",
    "        except Exception as e:\n",
    "            raise RuntimeError('Parquet engine not available. Install pyarrow or fastparquet.') from e\n",
    "    return p\n",
    "\n",
    "def read_df(path: t.Union[str, pathlib.Path]):\n",
    "    p = pathlib.Path(path)\n",
    "    fmt = detect_format(p)\n",
    "    if fmt == 'csv':\n",
    "        return pd.read_csv(p, parse_dates=['date']) if 'date' in pd.read_csv(p, nrows=0).columns else pd.read_csv(p)\n",
    "    else:\n",
    "        try:\n",
    "            return pd.read_parquet(p)\n",
    "        except Exception as e:\n",
    "            raise RuntimeError('Parquet engine not available. Install pyarrow or fastparquet.') from e\n",
    "\n",
    "# \n",
    "p_csv = RAW / f\"util_{ts()}.csv\"\n",
    "p_pq  = PROC / f\"util_{ts()}.parquet\"\n",
    "write_df(df, p_csv); read_df(p_csv).head()\n",
    "try:\n",
    "    print(write_df(df, p_pq)) #data processed\n",
    "    print(read_df(p_pq).head()) #data's header shown\n",
    "except RuntimeError as e:\n",
    "    print('Skipping Parquet util demo:', e)"
   ]
  },
  {
   "cell_type": "markdown",
   "id": "3ee711c2",
   "metadata": {},
   "source": [
    "## 5) Documentation (TODO)\n",
    "- Update README with a **Data Storage** section (folders, formats, env usage).\n",
    "- Summarize validation checks and any assumptions."
   ]
  }
 ],
 "metadata": {
  "kernelspec": {
   "display_name": "Python 3 (ipykernel)",
   "language": "python",
   "name": "python3"
  },
  "language_info": {
   "codemirror_mode": {
    "name": "ipython",
    "version": 3
   },
   "file_extension": ".py",
   "mimetype": "text/x-python",
   "name": "python",
   "nbconvert_exporter": "python",
   "pygments_lexer": "ipython3",
   "version": "3.11.13"
  }
 },
 "nbformat": 4,
 "nbformat_minor": 5
}
