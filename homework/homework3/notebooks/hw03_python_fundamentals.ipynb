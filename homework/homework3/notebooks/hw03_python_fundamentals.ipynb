{
 "cells": [
  {
   "cell_type": "code",
   "execution_count": 4,
   "id": "b1e0ba61-d8bd-4183-83a1-b57c261f75da",
   "metadata": {},
   "outputs": [
    {
     "name": "stdout",
     "output_type": "stream",
     "text": [
      "[ 3  5  7  9 11]\n",
      "[ 3  5  7  9 11]\n"
     ]
    }
   ],
   "source": [
    "# 1\n",
    "\n",
    "import numpy as np\n",
    "import time\n",
    "\n",
    "# Create arrays\n",
    "\n",
    "arr1 = np.array([1, 2, 3, 4, 5])\n",
    "arr2 = np.array([2, 3, 4, 5, 6])\n",
    "\n",
    "# Loop-based operation\n",
    "def loop_operation(a1, a2):\n",
    "    result = np.zeros_like(arr1)\n",
    "    for i in range(len(arr1)):\n",
    "        result[i] = a1[i] + a2[i]\n",
    "    return result\n",
    "\n",
    "def vectorized_operation(a1, a2):\n",
    "    return a1+a2\n",
    "\n",
    "print(loop_operation(arr1, arr2))\n",
    "\n",
    "print(vectorized_operation(arr1, arr2))\n",
    "\n",
    "#Both will do the same job"
   ]
  },
  {
   "cell_type": "code",
   "execution_count": 1,
   "id": "c063c8e0-9dd8-419b-b1d1-166c15a31763",
   "metadata": {},
   "outputs": [
    {
     "name": "stdout",
     "output_type": "stream",
     "text": [
      "\n",
      "Dataset information:\n",
      "<class 'pandas.core.frame.DataFrame'>\n",
      "RangeIndex: 242 entries, 0 to 241\n",
      "Data columns (total 7 columns):\n",
      " #   Column  Non-Null Count  Dtype  \n",
      "---  ------  --------------  -----  \n",
      " 0   Date    242 non-null    object \n",
      " 1   Ticket  242 non-null    int64  \n",
      " 2   Open    242 non-null    float64\n",
      " 3   Close   242 non-null    float64\n",
      " 4   High    242 non-null    float64\n",
      " 5   Low     242 non-null    float64\n",
      " 6   Volume  242 non-null    int64  \n",
      "dtypes: float64(4), int64(2), object(1)\n",
      "memory usage: 13.4+ KB\n",
      "None\n",
      "\n",
      "First 5 rows as head:\n",
      "       Date  Ticket  Open  Close  High   Low  Volume\n",
      "0  2023/1/3  600000  6.22   6.18  6.23  6.12  258925\n",
      "1  2023/1/4  600000  6.22   6.26  6.30  6.18  309471\n",
      "2  2023/1/5  600000  6.32   6.30  6.33  6.25  301622\n",
      "3  2023/1/6  600000  6.30   6.29  6.33  6.26  203129\n",
      "4  2023/1/9  600000  6.33   6.29  6.33  6.25  196123\n"
     ]
    }
   ],
   "source": [
    "# 2\n",
    "\n",
    "import pandas as pd\n",
    "\n",
    "#I took some stock data from elsewhere as I did not find the starter_data.csv\n",
    "\n",
    "df = pd.read_csv('data/starter_data.csv')\n",
    "\n",
    "print(\"\\nDataset information:\")\n",
    "print(df.info())\n",
    "\n",
    "print(\"\\nFirst 5 rows as head:\")\n",
    "print(df.head())"
   ]
  },
  {
   "cell_type": "code",
   "execution_count": 3,
   "id": "951fe610-0250-4d40-a197-371fae7c0152",
   "metadata": {},
   "outputs": [
    {
     "name": "stdout",
     "output_type": "stream",
     "text": [
      "         Ticket        Open       Close        High         Low        Volume\n",
      "count     242.0  242.000000  242.000000  242.000000  242.000000  2.420000e+02\n",
      "mean   600000.0    6.282397    6.276901    6.329132    6.232314  2.794742e+05\n",
      "std         0.0    0.213046    0.212948    0.223905    0.200906  1.573174e+05\n",
      "min    600000.0    5.790000    5.800000    5.860000    5.760000  1.089600e+05\n",
      "25%    600000.0    6.160000    6.152500    6.200000    6.120000  1.900225e+05\n",
      "50%    600000.0    6.260000    6.260000    6.300000    6.220000  2.454980e+05\n",
      "75%    600000.0    6.380000    6.370000    6.427500    6.330000  3.118758e+05\n",
      "max    600000.0    7.090000    7.020000    7.170000    6.890000  1.431179e+06\n",
      "Volume\n",
      "108960     6.21\n",
      "113966     6.20\n",
      "114107     6.17\n",
      "114365     6.18\n",
      "119299     6.19\n",
      "           ... \n",
      "758666     6.63\n",
      "774123     6.49\n",
      "873389     6.65\n",
      "1220590    6.91\n",
      "1431179    7.02\n",
      "Name: Close, Length: 242, dtype: float64\n"
     ]
    }
   ],
   "source": [
    "#3\n",
    "import os\n",
    "summary = df.describe()\n",
    "print(summary)\n",
    "\n",
    "#I group by volume to see how close prices behave, in general, higher the volume (more transaction), the close price will be higher\n",
    "avg_close_price_by_volume = df.groupby('Volume')['Close'].mean()\n",
    "print(avg_close_price_by_volume)\n",
    "\n",
    "#4\n",
    "\n",
    "os.makedirs('data/processed', exist_ok=True)\n",
    "\n",
    "output_path = 'data/processed/summary.csv'\n",
    "summary.to_csv(output_path)"
   ]
  },
  {
   "cell_type": "code",
   "execution_count": 4,
   "id": "3d60419e-8089-4b57-8cd5-3e5e28188c51",
   "metadata": {},
   "outputs": [
    {
     "name": "stdout",
     "output_type": "stream",
     "text": [
      "         Ticket        Open       Close        High         Low        Volume\n",
      "count     242.0  242.000000  242.000000  242.000000  242.000000  2.420000e+02\n",
      "mean   600000.0    6.282397    6.276901    6.329132    6.232314  2.794742e+05\n",
      "std         0.0    0.213046    0.212948    0.223905    0.200906  1.573174e+05\n",
      "min    600000.0    5.790000    5.800000    5.860000    5.760000  1.089600e+05\n",
      "25%    600000.0    6.160000    6.152500    6.200000    6.120000  1.900225e+05\n",
      "50%    600000.0    6.260000    6.260000    6.300000    6.220000  2.454980e+05\n",
      "75%    600000.0    6.380000    6.370000    6.427500    6.330000  3.118758e+05\n",
      "max    600000.0    7.090000    7.020000    7.170000    6.890000  1.431179e+06\n"
     ]
    }
   ],
   "source": [
    "#5\n",
    "\n",
    "def get_summary_stats(df):\n",
    "    return df.describe()\n",
    "\n",
    "print(get_summary_stats(df))"
   ]
  }
 ],
 "metadata": {
  "kernelspec": {
   "display_name": "Python 3 (ipykernel)",
   "language": "python",
   "name": "python3"
  },
  "language_info": {
   "codemirror_mode": {
    "name": "ipython",
    "version": 3
   },
   "file_extension": ".py",
   "mimetype": "text/x-python",
   "name": "python",
   "nbconvert_exporter": "python",
   "pygments_lexer": "ipython3",
   "version": "3.11.13"
  }
 },
 "nbformat": 4,
 "nbformat_minor": 5
}
