{
 "cells": [
  {
   "cell_type": "code",
   "execution_count": 1,
   "id": "4b3a7059-efb5-4b02-aa58-a96d83b4a1a7",
   "metadata": {},
   "outputs": [
    {
     "name": "stdout",
     "output_type": "stream",
     "text": [
      "Hello, Bootcamp!\n"
     ]
    }
   ],
   "source": [
    "print(\"Hello, Bootcamp!\")"
   ]
  },
  {
   "cell_type": "code",
   "execution_count": 1,
   "id": "6d644397-dc86-4432-994c-1942c37a97e6",
   "metadata": {},
   "outputs": [
    {
     "name": "stdout",
     "output_type": "stream",
     "text": [
      "Python version:\n",
      "3.11.13 | packaged by Anaconda, Inc. | (main, Jun  5 2025, 13:03:15) [MSC v.1929 64 bit (AMD64)]\n",
      "\n",
      "Python executable path: C:\\Users\\13466\\miniconda3\\envs\\fe-course\\python.exe\n",
      "\n",
      "Current working directory: C:\\Users\\13466\\bootcamp_enhua_zhu\\homework\\homework0\n"
     ]
    }
   ],
   "source": [
    "import sys\n",
    "import os\n",
    "import pandas as pd\n",
    "\n",
    "# 1. Check Python version\n",
    "print(\"Python version:\")\n",
    "print(sys.version)\n",
    "print(f\"\\nPython executable path: {sys.executable}\")\n",
    "\n",
    "# 2. Check current working directory\n",
    "current_dir = os.getcwd()\n",
    "print(f\"\\nCurrent working directory: {current_dir}\")"
   ]
  }
 ],
 "metadata": {
  "kernelspec": {
   "display_name": "Python 3 (ipykernel)",
   "language": "python",
   "name": "python3"
  },
  "language_info": {
   "codemirror_mode": {
    "name": "ipython",
    "version": 3
   },
   "file_extension": ".py",
   "mimetype": "text/x-python",
   "name": "python",
   "nbconvert_exporter": "python",
   "pygments_lexer": "ipython3",
   "version": "3.11.13"
  }
 },
 "nbformat": 4,
 "nbformat_minor": 5
}
